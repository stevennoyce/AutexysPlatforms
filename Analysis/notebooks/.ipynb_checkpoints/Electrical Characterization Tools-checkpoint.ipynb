{
 "cells": [
  {
   "cell_type": "code",
   "execution_count": null,
   "metadata": {},
   "outputs": [],
   "source": [
    "import os\n",
    "\n",
    "if os.path.basename(os.getcwd()) == 'notebooks':\n",
    "    os.chdir('../../../AutexysHost/source')\n",
    "    \n",
    "import numpy as np    \n",
    "    \n",
    "from utilities import DataLoggerUtility as dlu\n",
    "from utilities import DataPlotterUtility as dpu\n",
    "mplu = dpu.mplu\n",
    "from utilities import FET_Modeling as fet_model\n",
    "#from procedures import Device_History as DH\n",
    "\n",
    "%config InlineBackend.figure_format = 'png'"
   ]
  },
  {
   "cell_type": "code",
   "execution_count": null,
   "metadata": {},
   "outputs": [],
   "source": [
    "print(' === Figure 1 === ')\n",
    "\n",
    "color_Lakeshore = '#ee7539' #orange\n",
    "color_Signatone = '#7363af' #purple\n",
    "color_Doherty   = '#4FB99F' #green\n",
    "color_BluePCBv1 = '#1f77b4' #blue\n",
    "color_RedPCBv1  = '#ed553b' #red\n",
    "\n",
    "# === Load Data ===\n",
    "data_Lakeshore = dlu.loadSpecificDeviceHistory('../../AutexysData/jay/ECTools/Lakeshore/IRF730_100k/26-32', 'GateSweep.json', minExperiment=1, maxExperiment=1)\n",
    "data_Signatone = dlu.loadSpecificDeviceHistory('../../AutexysData/jay/ECTools/Signatone/IRF730_100k/26-32', 'GateSweep.json', minExperiment=1, maxExperiment=1)\n",
    "data_Doherty   = dlu.loadSpecificDeviceHistory('../../AutexysData/jay/ECTools/Doherty/IRF730_100k/26-32',   'GateSweep.json', minExperiment=1, maxExperiment=1)\n",
    "data_BluePCBv1 = dlu.loadSpecificDeviceHistory('../../AutexysData/jay/ECTools/BluePCBv1/IRF730_100k/26-32', 'GateSweep.json', minExperiment=1, maxExperiment=1)\n",
    "data_RedPCBv1  = dlu.loadSpecificDeviceHistory('../../AutexysData/jay/ECTools/RedPCBv1/IRF730_100k/26-32',  'GateSweep.json', minExperiment=1, maxExperiment=1)\n",
    "\n",
    "# === Plot ===\n",
    "figA1, (axA1,) = dpu.makeDevicePlot('TransferCurve', (data_Lakeshore + data_Signatone + data_Doherty + data_BluePCBv1 + data_RedPCBv1), data_Lakeshore[0]['Identifiers'], mode_parameters={'enableLegend':False, 'enableColorBar':False, 'sweepDirection':'both', 'colorsOverride':[color_Lakeshore]*len(data_Lakeshore)+[color_Signatone]*len(data_Signatone)+[color_Doherty]*len(data_Doherty)+[color_BluePCBv1]*len(data_BluePCBv1)+[color_RedPCBv1]*len(data_RedPCBv1), 'publication_mode':True, 'figureSizeOverride':(2,2.5)})\n",
    "dpu.saveExternalPlot(figA1, 'CharacterizationTool_Comparison')\n",
    "\n",
    "\n"
   ]
  }
 ],
 "metadata": {
  "kernelspec": {
   "display_name": "Python 3",
   "language": "python",
   "name": "python3"
  },
  "language_info": {
   "codemirror_mode": {
    "name": "ipython",
    "version": 3
   },
   "file_extension": ".py",
   "mimetype": "text/x-python",
   "name": "python",
   "nbconvert_exporter": "python",
   "pygments_lexer": "ipython3",
   "version": "3.6.8"
  }
 },
 "nbformat": 4,
 "nbformat_minor": 2
}
