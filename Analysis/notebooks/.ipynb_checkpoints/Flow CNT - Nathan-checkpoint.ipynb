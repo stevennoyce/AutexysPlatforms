{
 "cells": [
  {
   "cell_type": "code",
   "execution_count": 1,
   "metadata": {
    "collapsed": true
   },
   "outputs": [],
   "source": [
    "import os\n",
    "\n",
    "if os.path.basename(os.getcwd()) == 'notebooks':\n",
    "    os.chdir('../../../AutexysHost/source')\n",
    "    \n",
    "import numpy as np    \n",
    "    \n",
    "from utilities import DataLoggerUtility as dlu\n",
    "from utilities import DataPlotterUtility as dpu\n",
    "mplu = dpu.mplu\n",
    "from utilities import FET_Modeling as fet_model\n",
    "#from procedures import Device_History as DH\n",
    "\n",
    "%config InlineBackend.figure_format = 'png'"
   ]
  },
  {
   "cell_type": "code",
   "execution_count": 12,
   "metadata": {},
   "outputs": [
    {
     "name": "stdout",
     "output_type": "stream",
     "text": [
      "Plotting SubthresholdCurve plot.\n",
      "Finished plotting SubthresholdCurve plot.\n",
      "Saving figures.\n",
      "Figures saved. (Seconds elapsed: 0.44801878929138184)\n",
      "Plotting TransferCurve plot.\n",
      "Finished plotting TransferCurve plot.\n",
      "Saving figures.\n",
      "Figures saved. (Seconds elapsed: 0.30600523948669434)\n",
      "Saving figures.\n",
      "Figures saved. (Seconds elapsed: 0.5770208835601807)\n",
      "Saving figures.\n"
     ]
    },
    {
     "name": "stderr",
     "output_type": "stream",
     "text": [
      "C:\\Users\\FranklinLab_PC_1\\Anaconda3\\lib\\site-packages\\matplotlib\\pyplot.py:523: RuntimeWarning: More than 20 figures have been opened. Figures created through the pyplot interface (`matplotlib.pyplot.figure`) are retained until explicitly closed and may consume too much memory. (To control this warning, see the rcParam `figure.max_open_warning`).\n",
      "  max_open_warning, RuntimeWarning)\n"
     ]
    },
    {
     "name": "stdout",
     "output_type": "stream",
     "text": [
      "Figures saved. (Seconds elapsed: 0.3610055446624756)\n"
     ]
    },
    {
     "data": {
      "image/png": "[encoded data removed]",
      "text/plain": [
       "<matplotlib.figure.Figure at 0xeee2898>"
      ]
     },
     "execution_count": 12,
     "metadata": {},
     "output_type": "execute_result"
    }
   ],
   "source": [
    "data_hand_rinse  = dlu.loadSpecificDeviceHistory('../../AutexysData/cesar/PrintedCNTs1/JP1/J/62-63', 'GateSweep.json', minExperiment=1, maxExperiment=1)\n",
    "data_bath_rinse  = dlu.loadSpecificDeviceHistory('../../AutexysData/cesar/PrintedCNTs1/JP1/A/50-51', 'GateSweep.json', minExperiment=1, maxExperiment=1)\n",
    "data_combo_rinse = dlu.loadSpecificDeviceHistory('../../AutexysData/cesar/PrintedCNTs1/JP1/G/1-2', 'GateSweep.json', minExperiment=2, maxExperiment=2)\n",
    "\n",
    "fig1, (ax1,) = dpu.makeDevicePlot('SubthresholdCurve', data_hand_rinse, data_hand_rinse[0]['Identifiers'], mode_parameters={'enableLegend':True, 'enableColorBar':True, 'sweepDirection':'both', 'publication_mode':False, 'ylim':{'bottom':1e-11, 'top':1e-5}, 'legendLoc':'lower left'})\n",
    "fig3, (ax3,) = dpu.makeDevicePlot('TransferCurve', data_hand_rinse, data_hand_rinse[0]['Identifiers'], mode_parameters={'enableLegend':True, 'enableColorBar':True, 'sweepDirection':'both', 'publication_mode':False, 'ylim':{'bottom':1e-11, 'top':1e-5}, 'legendLoc':'lower left'})\n",
    "dpu.saveExternalPlot(fig1, 'PrintedCNTs_handrinse')\n",
    "\n",
    "fig2, ax2 = dpu.makeBlankPlot(figsize=(2,2))\n",
    "ax2.set_xlabel('$V_{{GS}}$ (V)')\n",
    "ax2.set_ylabel('$\\\\Delta g_{{m}}$ (V)')\n",
    "\n",
    "ax2.plot([1,2], [3,4])\n",
    "\n",
    "dpu.saveExternalPlot(fig2, 'SpecialPlot')\n",
    "\n",
    "fig2"
   ]
  },
  {
   "cell_type": "code",
   "execution_count": 15,
   "metadata": {},
   "outputs": [
    {
     "name": "stdout",
     "output_type": "stream",
     "text": [
      "Plotting SubthresholdCurve plot.\n",
      "Finished plotting SubthresholdCurve plot.\n"
     ]
    },
    {
     "name": "stderr",
     "output_type": "stream",
     "text": [
      "C:\\Users\\FranklinLab_PC_1\\Anaconda3\\lib\\site-packages\\matplotlib\\pyplot.py:523: RuntimeWarning: More than 20 figures have been opened. Figures created through the pyplot interface (`matplotlib.pyplot.figure`) are retained until explicitly closed and may consume too much memory. (To control this warning, see the rcParam `figure.max_open_warning`).\n",
      "  max_open_warning, RuntimeWarning)\n"
     ]
    },
    {
     "name": "stdout",
     "output_type": "stream",
     "text": [
      "Saving figures.\n",
      "Figures saved. (Seconds elapsed: 0.5580234527587891)\n",
      "Saving figures.\n",
      "Figures saved. (Seconds elapsed: 0.2970113754272461)\n"
     ]
    }
   ],
   "source": [
    "data_long  = dlu.loadSpecificDeviceHistory('../../AutexysData/jay/MoS2FET/JM4/C/34-35', 'GateSweep.json', minExperiment=105, maxExperiment=105) \n",
    "\n",
    "data_all = data_long\n",
    "\n",
    "# === Plot Data ===\n",
    "fig1, (ax1,) = dpu.makeDevicePlot('SubthresholdCurve', data_all, data_all[0]['Identifiers'], mode_parameters={'enableLegend':False, 'enableColorBar':False, 'sweepDirection':'reverse', 'colorsOverride':('white_teal_black', 0.5, 0.18), 'publication_mode':True, 'figureSizeOverride':(1.9,2.25)})\n",
    "\n",
    "# === Extract VT shifts ===\n",
    "t0 = 0\n",
    "delta_VT = {t0:0}\n",
    "\n",
    "for experiment in data_all: \n",
    "    bias_vgs_data = experiment['Results']['vgs_data'][1]\n",
    "    bias_id_data = experiment['Results']['id_data'][1]\n",
    "    bias_metrics = fet_model.FET_Metrics(bias_vgs_data, bias_id_data)\n",
    "\n",
    "    biasTime = experiment['runConfigs']['StaticBias']['totalBiasTime']\n",
    "    V_T = bias_metrics['V_T']\n",
    "\n",
    "    init_vgs_data = data_all[0]['Results']['vgs_data'][1]\n",
    "    init_id_data = data_all[0]['Results']['id_data'][1]\n",
    "    V_T0 = fet_model.FET_Metrics(init_vgs_data, init_id_data)['V_T']\n",
    "    \n",
    "    # Take VT shift to be this VT minus original \n",
    "    delta_VT[biasTime] = V_T - V_T0\n",
    "\n",
    "# === Delta V_T Plot ===    \n",
    "fig2, ax2 = dpu.makeBlankPlot(figsize=(2.2,1.8))\n",
    "\n",
    "ax2.set_ylabel('$\\\\Delta V_{{T}}}$ (V)')\n",
    "\n",
    "time_factor = 1/3600\n",
    "ax2.set_xticks([0,1,2,3,4,5,6])\n",
    "ax2.set_xlabel('$t_{{Hold}}$ (hr)')\n",
    "\n",
    "colors = mplu.setupColors(None, len(delta_VT.keys()), colorMapName='white_teal_black', colorMapStart=0.5, colorMapEnd=0.18)\n",
    "for i in range(len(delta_VT.keys())):\n",
    "    times = list(delta_VT.keys())\n",
    "    x = time_factor * np.array([times[i]])\n",
    "    y = [delta_VT[times[i]]]\n",
    "    ax2.plot(x, y, color=colors[i], marker='o', markersize=4)\n",
    "           \n",
    "dpu.saveExternalPlot(fig2, 'DeltaVTtime_Ambient')\n"
   ]
  },
  {
   "cell_type": "code",
   "execution_count": null,
   "metadata": {
    "collapsed": true
   },
   "outputs": [],
   "source": []
  }
 ],
 "metadata": {
  "kernelspec": {
   "display_name": "Python 3",
   "language": "python",
   "name": "python3"
  },
  "language_info": {
   "codemirror_mode": {
    "name": "ipython",
    "version": 3
   },
   "file_extension": ".py",
   "mimetype": "text/x-python",
   "name": "python",
   "nbconvert_exporter": "python",
   "pygments_lexer": "ipython3",
   "version": "3.6.3"
  }
 },
 "nbformat": 4,
 "nbformat_minor": 2
}
