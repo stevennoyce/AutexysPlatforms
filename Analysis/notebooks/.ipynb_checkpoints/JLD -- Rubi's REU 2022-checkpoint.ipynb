{
 "cells": [
  {
   "cell_type": "code",
   "execution_count": 1,
   "metadata": {},
   "outputs": [],
   "source": [
    "import os\n",
    "import sys\n",
    "\n",
    "if os.path.basename(os.getcwd()) == 'notebooks':\n",
    "    os.chdir('../../../AutexysHost/source')\n",
    "    \n",
    "from utilities import DataLoggerUtility as dlu\n",
    "from utilities import DataPlotterUtility as dpu\n",
    "mplu = dpu.mplu\n",
    "from utilities import FET_Modeling as fet_model\n",
    "#from procedures import Device_History as DH\n",
    "\n",
    "import numpy as np"
   ]
  },
  {
   "cell_type": "code",
   "execution_count": 31,
   "metadata": {},
   "outputs": [
    {
     "name": "stdout",
     "output_type": "stream",
     "text": [
      " === Long CNT ink Experiment === \n",
      "-- Device On Current:\n",
      "[1.9224999999999997e-11,\n",
      " 6.38325e-10,\n",
      " 8.25745e-09,\n",
      " 4.772080000000001e-07,\n",
      " 3.16963e-07,\n",
      " 7.8001925e-07,\n",
      " 3.6410175000000003e-07,\n",
      " 6.693385000000001e-07]\n",
      "-- Device On Current:\n",
      "[1.7475e-11,\n",
      " 1.8475e-11,\n",
      " 3.1697050000000005e-08,\n",
      " 2.9273125000000004e-07,\n",
      " 2.9998325e-07,\n",
      " 4.0295074999999996e-07,\n",
      " 2.541035e-07,\n",
      " 1.2347749999999998e-07]\n",
      "-- Device On Current:\n",
      "[1.8725000000000002e-11,\n",
      " 1.9899999999999997e-11,\n",
      " 4.038205e-08,\n",
      " 2.3585525000000002e-07,\n",
      " 3.20666e-07,\n",
      " 1.6750949999999998e-07,\n",
      " 3.1980625e-07,\n",
      " 3.642085e-07]\n",
      "-- Device On Current:\n",
      "[1.8625e-11,\n",
      " 1.93e-11,\n",
      " 1.100525e-08,\n",
      " 8.5559925e-08,\n",
      " 2.6643824999999995e-07,\n",
      " 1.8004425e-07,\n",
      " 8.5308275e-08,\n",
      " 5.40473e-08]\n",
      "-- Device On Current:\n",
      "[1.8275e-11,\n",
      " 1.8800000000000002e-11,\n",
      " 7.88845e-09,\n",
      " 1.00777125e-07,\n",
      " 1.3864e-07,\n",
      " 9.8942675e-08,\n",
      " 1.1912050000000001e-07,\n",
      " 6.4076325e-08]\n",
      "-- Device On Current:\n",
      "[2.1925e-11,\n",
      " 2.0075e-11,\n",
      " 1.8834075000000003e-08,\n",
      " 1.4026225000000002e-06,\n",
      " 3.6502825e-07,\n",
      " 4.1198599999999997e-07,\n",
      " 1.0912425e-07,\n",
      " 2.3812649999999997e-08]\n",
      "[MPL]: Saving figures.\n",
      "[MPL]: Figures saved. (Seconds elapsed: 0.739 s)\n"
     ]
    },
    {
     "data": {
      "image/png": "[encoded data removed]",
      "text/plain": [
       "<Figure size 198x144 with 1 Axes>"
      ]
     },
     "metadata": {},
     "output_type": "display_data"
    }
   ],
   "source": [
    "print(' === Long CNT ink Experiment === ')\n",
    "\n",
    "data_4_20 = dlu.loadSpecificDeviceHistory('../../AutexysData/Rubimarie/CNT/JR1/G/4-20', 'DrainSweep.json', minExperiment=1, maxExperiment=8)\n",
    "data_6_20 = dlu.loadSpecificDeviceHistory('../../AutexysData/Rubimarie/CNT/JR1/G/6-20', 'DrainSweep.json', minExperiment=1, maxExperiment=8)\n",
    "data_7_20 = dlu.loadSpecificDeviceHistory('../../AutexysData/Rubimarie/CNT/JR1/G/7,20-TL,BL', 'DrainSweep.json', minExperiment=1, maxExperiment=8)\n",
    "data_14_20 = dlu.loadSpecificDeviceHistory('../../AutexysData/Rubimarie/CNT/JR1/G/14-20', 'DrainSweep.json', minExperiment=1, maxExperiment=8)\n",
    "data_16_20 = dlu.loadSpecificDeviceHistory('../../AutexysData/Rubimarie/CNT/JR1/G/16-20', 'DrainSweep.json', minExperiment=1, maxExperiment=8)\n",
    "data_17_20 = dlu.loadSpecificDeviceHistory('../../AutexysData/Rubimarie/CNT/JR1/G/17,20-TR,BR', 'DrainSweep.json', minExperiment=1, maxExperiment=8)\n",
    "data_all = [data_4_20, data_6_20, data_7_20, data_14_20, data_16_20, data_17_20]\n",
    "\n",
    "import pprint\n",
    "\n",
    "analysis_all = []\n",
    "for device_data in data_all:\n",
    "    on_current_function = lambda current: max(current)\n",
    "    device_current_data = [{'forward':experiment['Results']['id_data'][0], 'reverse':experiment['Results']['id_data'][1]} for experiment in device_data]\n",
    "    device_current_data_grouped = [(device_current_data[i],device_current_data[i+1]) for i in range(0,len(device_current_data),2)]\n",
    "    device_on_current_grouped = [[on_current_function(group[0]['forward']), on_current_function(group[0]['reverse']), on_current_function(group[1]['forward']), on_current_function(group[1]['reverse'])] for group in device_current_data_grouped]\n",
    "    print('-- Device On Current:')\n",
    "    device_on_current_averaged = [float(np.mean(group)) for group in device_on_current_grouped]\n",
    "    pprint.pprint(device_on_current_averaged)\n",
    "    analysis_all.append(device_on_current_averaged)\n",
    "\n",
    "fig1, ax1 = dpu.makeBlankPlot(figsize=(2.75,2))\n",
    "fig2, ax2 = dpu.makeBlankPlot(figsize=(2.75,2))\n",
    "\n",
    "for plotted_data in analysis_all:\n",
    "    ax1.plot([0,1,3,5,10,15,30,60], plotted_data, marker='o', markersize='4', label='')\n",
    "ax1.set_yscale('log')\n",
    "ax1.set_ylabel('$I_{D}$ ($A$)')\n",
    "ax1.set_xlabel('Time in CNT ink ($min$)')\n",
    "\n",
    "for plotted_data in analysis_all:\n",
    "    ax2.plot([0,1,3,5,10,15,30,60], plotted_data, marker='o', markersize='4', label='')\n",
    "#ax2.set_yscale('log')\n",
    "ax2.set_ylabel('$I_{D}$ ($A$)')\n",
    "ax2.set_xlabel('Time in CNT ink ($min$)')\n",
    "\n",
    "#ax.set_yticks([1e-6, 1e-7, 1e-8, 1e-9])\n",
    "#ax.set_yticklabels(['1\\n$\\mathregular{\\\\mu}$m', '100\\nnm','10\\nnm','1\\nnm',])\n",
    "\n",
    "dpu.saveExternalPlot(fig, 'Rubi-test-plot')"
   ]
  },
  {
   "cell_type": "code",
   "execution_count": null,
   "metadata": {},
   "outputs": [],
   "source": []
  }
 ],
 "metadata": {
  "kernelspec": {
   "display_name": "Python 3",
   "language": "python",
   "name": "python3"
  },
  "language_info": {
   "codemirror_mode": {
    "name": "ipython",
    "version": 3
   },
   "file_extension": ".py",
   "mimetype": "text/x-python",
   "name": "python",
   "nbconvert_exporter": "python",
   "pygments_lexer": "ipython3",
   "version": "3.6.8"
  }
 },
 "nbformat": 4,
 "nbformat_minor": 2
}
