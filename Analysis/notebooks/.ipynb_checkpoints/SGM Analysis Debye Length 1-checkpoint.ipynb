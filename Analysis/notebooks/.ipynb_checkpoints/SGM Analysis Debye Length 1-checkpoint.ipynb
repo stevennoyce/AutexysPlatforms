{
 "cells": [
  {
   "cell_type": "code",
   "execution_count": 1,
   "metadata": {
    "collapsed": true
   },
   "outputs": [],
   "source": [
    "import os\n",
    "\n",
    "if os.path.basename(os.getcwd()) == 'notebooks':\n",
    "    os.chdir('../../../AutexysHost/source')\n",
    "\n",
    "from utilities import DataLoggerUtility as dlu\n",
    "from utilities import DataPlotterUtility as dpu\n",
    "from utilities import FET_Modeling as fet_model\n",
    "from procedures import Device_History as DH\n",
    "from procedures import AFMControl as afm_ctrl\n",
    "import launcher\n",
    "import defaults\n",
    "\n",
    "from matplotlib import pyplot as plt\n",
    "import numpy as np\n",
    "\n",
    "import scipy.optimize as sci_opt\n",
    "\n",
    "saveFolder = '../../../Publications/2018-04-30 Bias Stress ACS/Plots'\n",
    "\n",
    "# %config InlineBackend.figure_format = 'svg'"
   ]
  },
  {
   "cell_type": "code",
   "execution_count": 3,
   "metadata": {},
   "outputs": [],
   "source": [
    "ex147 = dlu.loadSpecificDeviceHistory('../../AutexysData/jay/MoS2FET/JM4/C/27-30/', 'AFMControl.json', minExperiment=147, maxExperiment=147)"
   ]
  },
  {
   "cell_type": "code",
   "execution_count": 11,
   "metadata": {
    "collapsed": true
   },
   "outputs": [],
   "source": [
    "experimentNumbers = list(range(75,87+1))\n",
    "\n",
    "heightSeq = []\n",
    "\n",
    "for experimentNumber in experimentNumbers:\n",
    "    e = {}\n",
    "    \n",
    "    dh = dlu.loadSpecificDeviceHistory('../../AutexysData/jay/MoS2FET/JM4/C/27-30/', 'AFMControl.json', minExperiment=experimentNumber, maxExperiment=experimentNumber)\n",
    "    \n",
    "    traces = afm_ctrl.extractTraces(dh)\n",
    "    traceNumber = 0\n",
    "    \n",
    "    Vx_vals = traces['Vx'][traceNumber]\n",
    "    Vy_vals = traces['Vy'][traceNumber]\n",
    "    Id_vals = traces['Id'][traceNumber]\n",
    "    \n",
    "    sgm_matrix, dataWidth, dataHeight = afm_ctrl.getRasteredMatrix(Vx_vals, Vy_vals, Id_vals)\n",
    "    sgm_matrix = afm_ctrl.interpolate_nans(sgm_matrix)\n",
    "    \n",
    "    heightSeq.append(e)"
   ]
  },
  {
   "cell_type": "code",
   "execution_count": null,
   "metadata": {
    "collapsed": true
   },
   "outputs": [],
   "source": []
  }
 ],
 "metadata": {
  "kernelspec": {
   "display_name": "Python 3",
   "language": "python",
   "name": "python3"
  },
  "language_info": {
   "codemirror_mode": {
    "name": "ipython",
    "version": 3
   },
   "file_extension": ".py",
   "mimetype": "text/x-python",
   "name": "python",
   "nbconvert_exporter": "python",
   "pygments_lexer": "ipython3",
   "version": "3.6.6"
  }
 },
 "nbformat": 4,
 "nbformat_minor": 2
}
