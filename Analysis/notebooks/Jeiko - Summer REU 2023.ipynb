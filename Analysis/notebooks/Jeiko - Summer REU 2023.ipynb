{
 "cells": [
  {
   "cell_type": "code",
   "execution_count": 2,
   "metadata": {},
   "outputs": [
    {
     "name": "stdout",
     "output_type": "stream",
     "text": [
      "Loaded Imports.\n"
     ]
    }
   ],
   "source": [
    "import os\n",
    "import sys\n",
    "import json\n",
    "\n",
    "if os.path.basename(os.getcwd()) == 'notebooks':\n",
    "    os.chdir('../../../AutexysHost/source')\n",
    "    \n",
    "from utilities import DataLoggerUtility as dlu\n",
    "from utilities import DataPlotterUtility as dpu\n",
    "mplu = dpu.mplu\n",
    "from utilities import FET_Modeling as fet_model\n",
    "#from procedures import Device_History as DH\n",
    "\n",
    "import numpy as np\n",
    "\n",
    "print('Loaded Imports.')"
   ]
  },
  {
   "cell_type": "code",
   "execution_count": null,
   "metadata": {},
   "outputs": [],
   "source": [
    "data_1Left_180C = dlu.loadSpecificDeviceHistory('../../AutexysData/jay/Zirconia/JC1/O/1-Left', 'GateSweep.json', minExperiment=20, maxExperiment=20, minRelativeIndex=1, maxRelativeIndex=1)[0]\n",
    "data_1Left_160C = dlu.loadSpecificDeviceHistory('../../AutexysData/jay/Zirconia/JC1/O/1-Left', 'GateSweep.json', minExperiment=19, maxExperiment=19, minRelativeIndex=1, maxRelativeIndex=1)[0]\n",
    "data_1Left_140C = dlu.loadSpecificDeviceHistory('../../AutexysData/jay/Zirconia/JC1/O/1-Left', 'GateSweep.json', minExperiment=17, maxExperiment=17, minRelativeIndex=1, maxRelativeIndex=1)[0]\n",
    "data_1Left_120C = dlu.loadSpecificDeviceHistory('../../AutexysData/jay/Zirconia/JC1/O/1-Left', 'GateSweep.json', minExperiment=16, maxExperiment=16, minRelativeIndex=1, maxRelativeIndex=1)[0]\n",
    "data_1Left_100C = dlu.loadSpecificDeviceHistory('../../AutexysData/jay/Zirconia/JC1/O/1-Left', 'GateSweep.json', minExperiment=15, maxExperiment=15, minRelativeIndex=1, maxRelativeIndex=1)[0]\n",
    "data_1Left_80C = dlu.loadSpecificDeviceHistory('../../AutexysData/jay/Zirconia/JC1/O/1-Left', 'GateSweep.json', minExperiment=14, maxExperiment=14, minRelativeIndex=1, maxRelativeIndex=1)[0]\n",
    "data_1Left_RT = dlu.loadSpecificDeviceHistory('../../AutexysData/jay/Zirconia/JC1/O/1-Left', 'GateSweep.json', minExperiment=12, maxExperiment=12, minRelativeIndex=1, maxRelativeIndex=1)[0]\n",
    "\n",
    "#data_1Center_180C = Experiment 24\n",
    "#data_1Center_160C = Experiment 23\n",
    "#data_1Center_140C = Experiment 21\n",
    "#data_1Center_120C = Experiment 20\n",
    "#data_1Center_100C = Experiment 19\n",
    "#data_1Center_80C = Experiment 18\n",
    "#data_1Center_RT = Experiment 17\n",
    "\n",
    "#data_1Right_180C = Experiment 19\n",
    "#data_1Right_160C = Experiment 18\n",
    "#data_1Right_140C = Experiment 16\n",
    "#data_1Right_120C = Experiment 15\n",
    "#data_1Right_100C = Experiment 14\n",
    "#data_1Right_80C = Experiment 13\n",
    "#data_1Right_RT = Experiment 12\n",
    "\n",
    "fig1, (ax1) = dpu.makeBlankPlot(figsize=(2,2))\n",
    "\n",
    "x, y, pointsPerX = mplu.extractSweep(ax1, data_1Left_180C, direction='both', x_data='gate voltage', y_data='drain current')\n",
    "for x_set, y_set in zip(x,y):\n",
    "    ax1.plot(x_set, -1e6*np.array(y_set), color='Blue', marker='o', markersize=2, linewidth=1)\n",
    "x, y, pointsPerX = mplu.extractSweep(ax1, data_1Left_160C, direction='both', x_data='gate voltage', y_data='drain current')\n",
    "for x_set, y_set in zip(x,y):\n",
    "    ax1.plot(x_set, -1e6*np.array(y_set), color='Green', marker='o', markersize=2, linewidth=1)\n",
    "\n",
    "#ax1.set_ylim([11,65])\n",
    "#ax1.set_yticks([20,40,60])\n",
    "#ax1.set_xlim([0,9])\n",
    "ax1.set_xticks([-6,-3,0,3,6])\n",
    "ax1.set_xlabel('$V_{GS}$ (V)')\n",
    "ax1.set_ylabel('$I_{D}$ (µA)')\n",
    "    \n",
    "#dpu.saveExternalPlot(fig1, 'Jeiko_Zirconia_Experiment', mode_parameters={'publication_mode':True})\n",
    "\n",
    "fig2, (ax2,) = dpu.makeDevicePlot('SubthresholdCurve', [data_1Left_RT, data_1Left_80C, data_1Left_100C, data_1Left_120C, data_1Left_140C, data_1Left_160C, data_1Left_180C], data_1Left_180C['Identifiers'], mode_parameters={'enableLegend':False, 'enableColorBar':False, 'sweepDirection':'forward', 'publication_mode':True, 'figureSizeOverride':(1.6,2.0)})\n",
    "ax2.set_xticks([-6,-3,0,3,6])\n",
    "dpu.saveExternalPlot(fig2, 'Jeiko_Zirconia_Experiment', mode_parameters={'publication_mode':True})\n",
    "colors = mplu.setupColors(fig2, 7, colorMapName='white_blue_black', colorMapStart=0.8, colorMapEnd=0.15)\n",
    "print(['#{:02x}{:02x}{:02x}'.format(int(c[0]*255),int(c[1]*255),int(c[2]*255)) for c in colors])"
   ]
  },
  {
   "cell_type": "code",
   "execution_count": null,
   "metadata": {},
   "outputs": [],
   "source": [
    "data_1Left_Original        = dlu.loadSpecificDeviceHistory('../../AutexysData/Jeiko/CNT/JC1/O/1-Left', 'GateSweep.json', minExperiment=4, maxExperiment=4)[0]\n",
    "data_1Left_Passivated_RT   = dlu.loadSpecificDeviceHistory('../../AutexysData/jay/Zirconia/JC1/O/1-Left', 'GateSweep.json', minExperiment=12, maxExperiment=12, minRelativeIndex=1, maxRelativeIndex=1)[0]\n",
    "data_1Left_Passivated_180C = dlu.loadSpecificDeviceHistory('../../AutexysData/jay/Zirconia/JC1/O/1-Left', 'GateSweep.json', minExperiment=20, maxExperiment=20, minRelativeIndex=1, maxRelativeIndex=1)[0]\n",
    "\n",
    "\n",
    "fig, (ax,) = dpu.makeDevicePlot('SubthresholdCurve', [data_1Left_Original, data_1Left_Passivated_RT, data_1Left_Passivated_180C], data_1Left_Passivated_180C['Identifiers'], mode_parameters={'enableLegend':False, 'enableColorBar':False, 'sweepDirection':'both', 'publication_mode':True, 'figureSizeOverride':(1.6,2.0)})\n",
    "ax.set_xticks([-6,-3,0,3,6])\n",
    "dpu.saveExternalPlot(fig, 'CNT_with_ZrO2_Passivation', mode_parameters={'publication_mode':True})\n",
    "\n",
    "colors = mplu.colorsFromMap('white_blue_black', 0.8, 0.15, 3)['colors']\n",
    "print(['#{:02x}{:02x}{:02x}'.format(int(c[0]*255),int(c[1]*255),int(c[2]*255)) for c in colors])"
   ]
  }
 ],
 "metadata": {
  "kernelspec": {
   "display_name": "Python 3",
   "language": "python",
   "name": "python3"
  },
  "language_info": {
   "codemirror_mode": {
    "name": "ipython",
    "version": 3
   },
   "file_extension": ".py",
   "mimetype": "text/x-python",
   "name": "python",
   "nbconvert_exporter": "python",
   "pygments_lexer": "ipython3",
   "version": "3.6.8"
  }
 },
 "nbformat": 4,
 "nbformat_minor": 2
}
